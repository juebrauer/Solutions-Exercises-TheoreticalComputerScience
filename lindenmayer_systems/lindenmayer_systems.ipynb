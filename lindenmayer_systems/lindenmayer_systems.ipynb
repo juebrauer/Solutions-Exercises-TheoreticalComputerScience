{
 "cells": [
  {
   "cell_type": "markdown",
   "id": "spectacular-attachment",
   "metadata": {},
   "source": [
    "# Einführung in Lindenmayer-Systeme\n",
    "\n",
    "Von Jürgen Brauer\n",
    "\n",
    "Ein gutes Einführungsvideo in die Welt der Lindenmayer-Systeme ist:\n",
    "\n",
    "[8.5: L-Systems - The Nature of Code](https://www.youtube.com/watch?v=f6ra024-ASY)\n",
    "\n",
    "Nach 20 Minuten hat man hier eine gute Intuition, wie\n",
    "\n",
    "- L-Systeme funktionieren\n",
    "- wozu sie gut sind\n",
    "- wie man sie implementieren kann"
   ]
  },
  {
   "cell_type": "markdown",
   "id": "legendary-advertiser",
   "metadata": {},
   "source": [
    "# Kurzer Exkurs: Stack-ähnliche Datenstrukturen in Python"
   ]
  },
  {
   "cell_type": "code",
   "execution_count": 57,
   "id": "unlike-performer",
   "metadata": {},
   "outputs": [],
   "source": [
    "from collections import deque\n",
    "\n",
    "stack = deque()"
   ]
  },
  {
   "cell_type": "code",
   "execution_count": 58,
   "id": "female-costs",
   "metadata": {},
   "outputs": [
    {
     "data": {
      "text/plain": [
       "deque([])"
      ]
     },
     "execution_count": 58,
     "metadata": {},
     "output_type": "execute_result"
    }
   ],
   "source": [
    "stack"
   ]
  },
  {
   "cell_type": "code",
   "execution_count": 59,
   "id": "lesser-train",
   "metadata": {},
   "outputs": [],
   "source": [
    "stack.append(1)"
   ]
  },
  {
   "cell_type": "code",
   "execution_count": 60,
   "id": "nasty-senegal",
   "metadata": {},
   "outputs": [
    {
     "data": {
      "text/plain": [
       "deque([1])"
      ]
     },
     "execution_count": 60,
     "metadata": {},
     "output_type": "execute_result"
    }
   ],
   "source": [
    "stack"
   ]
  },
  {
   "cell_type": "code",
   "execution_count": 61,
   "id": "owned-mathematics",
   "metadata": {},
   "outputs": [],
   "source": [
    "stack.append(2)"
   ]
  },
  {
   "cell_type": "code",
   "execution_count": 62,
   "id": "attractive-biodiversity",
   "metadata": {},
   "outputs": [
    {
     "data": {
      "text/plain": [
       "deque([1, 2])"
      ]
     },
     "execution_count": 62,
     "metadata": {},
     "output_type": "execute_result"
    }
   ],
   "source": [
    "stack"
   ]
  },
  {
   "cell_type": "code",
   "execution_count": 63,
   "id": "moral-words",
   "metadata": {},
   "outputs": [],
   "source": [
    "stack.append(3)"
   ]
  },
  {
   "cell_type": "code",
   "execution_count": 64,
   "id": "wired-observer",
   "metadata": {},
   "outputs": [
    {
     "data": {
      "text/plain": [
       "deque([1, 2, 3])"
      ]
     },
     "execution_count": 64,
     "metadata": {},
     "output_type": "execute_result"
    }
   ],
   "source": [
    "stack"
   ]
  },
  {
   "cell_type": "code",
   "execution_count": 66,
   "id": "induced-values",
   "metadata": {},
   "outputs": [
    {
     "data": {
      "text/plain": [
       "3"
      ]
     },
     "execution_count": 66,
     "metadata": {},
     "output_type": "execute_result"
    }
   ],
   "source": [
    "stack.pop()"
   ]
  },
  {
   "cell_type": "code",
   "execution_count": 67,
   "id": "solved-teddy",
   "metadata": {},
   "outputs": [
    {
     "data": {
      "text/plain": [
       "deque([1, 2])"
      ]
     },
     "execution_count": 67,
     "metadata": {},
     "output_type": "execute_result"
    }
   ],
   "source": [
    "stack"
   ]
  },
  {
   "cell_type": "code",
   "execution_count": 68,
   "id": "expected-kernel",
   "metadata": {},
   "outputs": [
    {
     "data": {
      "text/plain": [
       "2"
      ]
     },
     "execution_count": 68,
     "metadata": {},
     "output_type": "execute_result"
    }
   ],
   "source": [
    "stack.pop()"
   ]
  },
  {
   "cell_type": "code",
   "execution_count": 69,
   "id": "economic-drama",
   "metadata": {},
   "outputs": [
    {
     "data": {
      "text/plain": [
       "deque([1])"
      ]
     },
     "execution_count": 69,
     "metadata": {},
     "output_type": "execute_result"
    }
   ],
   "source": [
    "stack"
   ]
  },
  {
   "cell_type": "code",
   "execution_count": 71,
   "id": "unexpected-aging",
   "metadata": {},
   "outputs": [
    {
     "data": {
      "text/plain": [
       "1"
      ]
     },
     "execution_count": 71,
     "metadata": {},
     "output_type": "execute_result"
    }
   ],
   "source": [
    "stack.pop()"
   ]
  },
  {
   "cell_type": "code",
   "execution_count": 72,
   "id": "guilty-comparison",
   "metadata": {},
   "outputs": [
    {
     "data": {
      "text/plain": [
       "deque([])"
      ]
     },
     "execution_count": 72,
     "metadata": {},
     "output_type": "execute_result"
    }
   ],
   "source": [
    "stack"
   ]
  },
  {
   "cell_type": "markdown",
   "id": "resident-celebration",
   "metadata": {},
   "source": [
    "# Turtle-Grafik\n",
    "\n",
    "Damit wir später unsere generierten Strings visualisieren können, brauchen wir eine Zeichenmöglichkeit:\n",
    "\n",
    "    Befehl | Bedeutung\n",
    "    ------ | --------------------------\n",
    "    F      | vorwärts fahren um Länge s und dabei Linie zeichnen\n",
    "    L      | links drehen um Winkel w\n",
    "    R      | rechts drehen um Wnkel w\n",
    "    [      | Orientierung und Position der Turtle auf Stack legen\n",
    "    ]      | Orientierung und Position der Turtle von Stack wiederherstellen\n"
   ]
  },
  {
   "cell_type": "code",
   "execution_count": 111,
   "id": "strategic-compact",
   "metadata": {},
   "outputs": [],
   "source": [
    "import cv2 as cv\n",
    "import numpy as np\n",
    "import matplotlib.pyplot as plt\n",
    "from collections import deque\n",
    "\n",
    "LINE_COLOR = (255,255,255)\n",
    "LINE_WIDTH = 2\n",
    "\n",
    "class turtle_graphics:\n",
    "    \n",
    "    def __init__(self, image_width, image_height):\n",
    "        self.image_width = image_width\n",
    "        self.image_height = image_height        \n",
    "        self.image = np.zeros(shape=(image_height, image_width, 3), dtype=np.uint8)                       \n",
    "        \n",
    "        self.pos    = [image_width//2, image_height//2]\n",
    "        self.orient = -np.pi/2\n",
    "        \n",
    "        self.pose_stack = deque()\n",
    "        \n",
    "    \n",
    "    def move(self, length):\n",
    "        \n",
    "        old_pos = self.pos.copy()\n",
    "        \n",
    "        dx = (int) (np.cos(self.orient) * length)\n",
    "        dy = (int) (np.sin(self.orient) * length)\n",
    "        \n",
    "        self.pos[0] += dx\n",
    "        self.pos[1] += dy\n",
    "\n",
    "        cv.line(img=self.image,\n",
    "                pt1=(old_pos[0], old_pos[1]),\n",
    "                pt2=(self.pos[0], self.pos[1]),\n",
    "                color=(255,255,255),\n",
    "                thickness=LINE_WIDTH)\n",
    "        \n",
    "        \n",
    "\n",
    "    def turn(self, angle_degree):\n",
    "        \n",
    "        angle_radians = (angle_degree/360) * (2.0*np.pi)        \n",
    "        self.orient += angle_radians\n",
    "        \n",
    "\n",
    "        \n",
    "    def push_pose(self):\n",
    "        pose = (self.pos.copy(), self.orient)\n",
    "        self.pose_stack.append( pose )\n",
    "        \n",
    "        \n",
    "    def pop_pose(self):        \n",
    "        pose = self.pose_stack.pop()\n",
    "        self.pos = pose[0]\n",
    "        self.orient = pose[1]\n",
    "        \n",
    "        "
   ]
  },
  {
   "cell_type": "code",
   "execution_count": 114,
   "id": "fancy-webmaster",
   "metadata": {},
   "outputs": [],
   "source": [
    "t = turtle_graphics(100,100)\n",
    "\n",
    "t.move(10)\n",
    "t.turn(-90)\n",
    "\n",
    "t.push_pose()\n",
    "\n",
    "t.move(10)\n",
    "t.turn(90)\n",
    "t.move(10)\n",
    "\n",
    "t.pop_pose()\n",
    "\n",
    "t.turn(180)\n",
    "t.move(10)\n",
    "t.turn(-90)\n",
    "t.move(10)"
   ]
  },
  {
   "cell_type": "code",
   "execution_count": 115,
   "id": "jewish-island",
   "metadata": {},
   "outputs": [
    {
     "data": {
      "image/png": "[encoded data removed]",
      "text/plain": [
       "<Figure size 432x288 with 1 Axes>"
      ]
     },
     "metadata": {
      "needs_background": "light"
     },
     "output_type": "display_data"
    }
   ],
   "source": [
    "plt.imshow(t.image)\n",
    "plt.show()"
   ]
  },
  {
   "cell_type": "markdown",
   "id": "broke-sleep",
   "metadata": {},
   "source": [
    "# Lindenmayer-System"
   ]
  },
  {
   "cell_type": "code",
   "execution_count": 133,
   "id": "large-arlington",
   "metadata": {},
   "outputs": [
    {
     "name": "stdout",
     "output_type": "stream",
     "text": [
      "generation #0: F\n"
     ]
    },
    {
     "data": {
      "image/png": "[encoded data removed]",
      "text/plain": [
       "<Figure size 432x288 with 1 Axes>"
      ]
     },
     "metadata": {
      "needs_background": "light"
     },
     "output_type": "display_data"
    },
    {
     "name": "stdout",
     "output_type": "stream",
     "text": [
      "generation #1: F+FF\n"
     ]
    },
    {
     "data": {
      "image/png": "[encoded data removed]",
      "text/plain": [
       "<Figure size 432x288 with 1 Axes>"
      ]
     },
     "metadata": {
      "needs_background": "light"
     },
     "output_type": "display_data"
    },
    {
     "name": "stdout",
     "output_type": "stream",
     "text": [
      "generation #2: F+FF+F+FFF+FF\n"
     ]
    },
    {
     "data": {
      "image/png": "[encoded data removed]",
      "text/plain": [
       "<Figure size 432x288 with 1 Axes>"
      ]
     },
     "metadata": {
      "needs_background": "light"
     },
     "output_type": "display_data"
    },
    {
     "name": "stdout",
     "output_type": "stream",
     "text": [
      "generation #3: F+FF+F+FFF+FF+F+FF+F+FFF+FFF+FF+F+FFF+FF\n"
     ]
    },
    {
     "data": {
      "image/png": "[encoded data removed]",
      "text/plain": [
       "<Figure size 432x288 with 1 Axes>"
      ]
     },
     "metadata": {
      "needs_background": "light"
     },
     "output_type": "display_data"
    },
    {
     "name": "stdout",
     "output_type": "stream",
     "text": [
      "generation #4: F+FF+F+FFF+FF+F+FF+F+FFF+FFF+FF+F+FFF+FF+F+FF+F+FFF+FF+F+FF+F+FFF+FFF+FF+F+FFF+FFF+FF+F+FFF+FF+F+FF+F+FFF+FFF+FF+F+FFF+FF\n"
     ]
    },
    {
     "data": {
      "image/png": "[encoded data removed]",
      "text/plain": [
       "<Figure size 432x288 with 1 Axes>"
      ]
     },
     "metadata": {
      "needs_background": "light"
     },
     "output_type": "display_data"
    }
   ],
   "source": [
    "P1 = { \"F\" : \"F+F\" }\n",
    "L1 = ( \"F\", P1 )\n",
    "\n",
    "P2 = { \"F\" : \"F+FF\" }\n",
    "L2 = ( \"F\", P2 )\n",
    "\n",
    "L = L2\n",
    "\n",
    "def substitute(txt, P):\n",
    "    \n",
    "    new_txt = \"\"    \n",
    "    for c in txt:\n",
    "        \n",
    "        # is there a rule for character c\n",
    "        # in the set of production rules P?\n",
    "        if c in P:\n",
    "            # yes!\n",
    "            replace_txt = P[c]\n",
    "            new_txt += replace_txt\n",
    "        else:\n",
    "            # no! so just copy c to new text\n",
    "            new_txt += c\n",
    "            \n",
    "    return new_txt\n",
    "\n",
    "\n",
    "\n",
    "def txt_to_graphics(txt):\n",
    "    \n",
    "    t = turtle_graphics(200,200)\n",
    "    \n",
    "    length = 20\n",
    "    angle  = 40\n",
    "    \n",
    "    for c in txt:\n",
    "        if c==\"F\":\n",
    "            t.move(length)\n",
    "        elif c==\"+\":\n",
    "            t.turn(-angle)\n",
    "        elif c==\"-\":\n",
    "            t.turn(+angle)\n",
    "        elif c==\"[\":\n",
    "            t.push_pose()\n",
    "        elif c==\"]\":\n",
    "            t.pop_pose()\n",
    "     \n",
    "    plt.imshow(t.image)\n",
    "    plt.title(f\"draw cmds: {txt}\")\n",
    "    plt.show()\n",
    "    \n",
    "\n",
    "\n",
    "txt = L[0]\n",
    "P = L[1]\n",
    "NR_GENS = 5\n",
    "for gen_nr in range(0, NR_GENS):\n",
    "    \n",
    "    print(f\"generation #{gen_nr}: {txt}\")\n",
    "    txt_to_graphics( txt )\n",
    "    \n",
    "    txt = substitute( txt, P )"
   ]
  },
  {
   "cell_type": "code",
   "execution_count": null,
   "id": "further-consequence",
   "metadata": {},
   "outputs": [],
   "source": []
  }
 ],
 "metadata": {
  "kernelspec": {
   "display_name": "Python 3",
   "language": "python",
   "name": "python3"
  },
  "language_info": {
   "codemirror_mode": {
    "name": "ipython",
    "version": 3
   },
   "file_extension": ".py",
   "mimetype": "text/x-python",
   "name": "python",
   "nbconvert_exporter": "python",
   "pygments_lexer": "ipython3",
   "version": "3.8.5"
  },
  "toc": {
   "base_numbering": 1,
   "nav_menu": {},
   "number_sections": true,
   "sideBar": true,
   "skip_h1_title": false,
   "title_cell": "Table of Contents",
   "title_sidebar": "Contents",
   "toc_cell": false,
   "toc_position": {},
   "toc_section_display": true,
   "toc_window_display": true
  }
 },
 "nbformat": 4,
 "nbformat_minor": 5
}
